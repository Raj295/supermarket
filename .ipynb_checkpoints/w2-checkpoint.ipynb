{
 "cells": [
  {
   "cell_type": "code",
   "execution_count": 91,
   "id": "e8f6dcc8-c522-4a1b-a838-d6b9280e8707",
   "metadata": {},
   "outputs": [
    {
     "name": "stdout",
     "output_type": "stream",
     "text": [
      "<class 'pandas.core.frame.DataFrame'>\n"
     ]
    }
   ],
   "source": [
    "import pandas as pd#56 good\n",
    "t = [5,3, 7]\n",
    "df1 = pd.DataFrame(t)\n",
    "print(type(df1))\n",
    "\n",
    "\n",
    "# for i in t[2:3]:\n",
    "# #     df=(i)\n",
    "# #     #print(df)\n",
    "# #     #print(type(df))\n",
    "\n",
    "#     newlist = []\n",
    "\n",
    "#     for a in t[:3]:\n",
    "#       #if \"a\" in x:\n",
    "#         newlist.append(a)\n",
    "\n",
    "#         df=(newlist[0:3])\n",
    "#         #print(type(df))\n",
    "#         df1 = pd.DataFrame(df)\n",
    "# print(df1[0:3])\n",
    "#                 #\n",
    "# print(type(df1))\n"
   ]
  },
  {
   "cell_type": "code",
   "execution_count": 64,
   "id": "2bcbe113-16ef-45ac-a355-091b58ddb98c",
   "metadata": {},
   "outputs": [
    {
     "name": "stdout",
     "output_type": "stream",
     "text": [
      "   0\n",
      "0  1\n",
      "   0\n",
      "0  1\n",
      "1  2\n",
      "   0\n",
      "0  1\n",
      "1  2\n",
      "2  3\n",
      "   0\n",
      "0  1\n",
      "1  2\n",
      "2  3\n",
      "   0\n",
      "0  1\n",
      "1  2\n",
      "2  3\n",
      "   0\n",
      "0  1\n",
      "1  2\n",
      "2  3\n",
      "   0\n",
      "0  1\n",
      "1  2\n",
      "2  3\n",
      "   0\n",
      "0  1\n",
      "1  2\n",
      "2  3\n",
      "   0\n",
      "0  1\n",
      "1  2\n",
      "2  3\n"
     ]
    }
   ],
   "source": [
    "import pandas as pd#56 good\n",
    "t = [1,2,3]\n",
    "q=[10,20,30]\n",
    "for i in t[2:3]:\n",
    "    for r in q[2:3]:   \n",
    "#     df=(i)\n",
    "#     #print(df)\n",
    "#     #print(type(df))\n",
    "\n",
    "      newlist = []\n",
    "\n",
    "    for a in t[:3]:\n",
    "      #if \"a\" in x:\n",
    "      for b in t[:]:\n",
    "        newlist.append(a*b)\n",
    "\n",
    "        df=(newlist[0:3])\n",
    "        #print(type(df))\n",
    "        df1 = pd.DataFrame(df)\n",
    "        print(df1[0:3])\n",
    "                #\n",
    "        #print(type(df1[0:2]))\n"
   ]
  },
  {
   "cell_type": "code",
   "execution_count": 104,
   "id": "69a9b236-46ef-4451-8f14-7ed15c0841ad",
   "metadata": {},
   "outputs": [
    {
     "name": "stdout",
     "output_type": "stream",
     "text": [
      "5\n",
      "<class 'int'>\n",
      "3\n",
      "<class 'int'>\n",
      "2\n",
      "<class 'int'>\n",
      "[5, 3, 2]\n"
     ]
    }
   ],
   "source": [
    "t = [5,3, 2]\n",
    "for i in t:\n",
    "    #df=(i)\n",
    "    print(i)\n",
    "    print(type(i))\n",
    "\n",
    "newlist = []\n",
    "\n",
    "for a in t:\n",
    "#       #if \"a\" in x:\n",
    "         newlist.append(a)\n",
    "\n",
    "         df=(newlist)\n",
    "print(df)\n"
   ]
  },
  {
   "cell_type": "code",
   "execution_count": null,
   "id": "9bc48f73-0f5b-4694-bf40-c0fc77396e70",
   "metadata": {},
   "outputs": [],
   "source": []
  }
 ],
 "metadata": {
  "kernelspec": {
   "display_name": "Python 3 (ipykernel)",
   "language": "python",
   "name": "python3"
  },
  "language_info": {
   "codemirror_mode": {
    "name": "ipython",
    "version": 3
   },
   "file_extension": ".py",
   "mimetype": "text/x-python",
   "name": "python",
   "nbconvert_exporter": "python",
   "pygments_lexer": "ipython3",
   "version": "3.9.6"
  }
 },
 "nbformat": 4,
 "nbformat_minor": 5
}
