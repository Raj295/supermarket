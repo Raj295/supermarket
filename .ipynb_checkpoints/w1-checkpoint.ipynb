{
 "cells": [
  {
   "cell_type": "code",
   "execution_count": 28,
   "id": "7c1e5845-718d-4db6-a029-cd28dab1bf1e",
   "metadata": {},
   "outputs": [
    {
     "name": "stdout",
     "output_type": "stream",
     "text": [
      "235.40620457800313\n",
      "294.33838831637036\n",
      "360.8126010587577\n",
      "243.46535291111593\n",
      "98.76157431881536\n",
      "331.55361925670564\n",
      "285.91878861780924\n",
      "134.72972440904837\n",
      "366.8448445594179\n",
      "377.9384797206012\n",
      "20.356568358383612\n",
      "122.26583647132011\n",
      "314.526768703343\n",
      "34.04502202980665\n",
      "294.11649825158156\n"
     ]
    }
   ],
   "source": [
    "import pandas as pd\n",
    "##########\n",
    "import os\n",
    "import sys\n",
    "\n",
    "import numpy as np\n",
    "\n",
    "from haversine import haversine, Unit\n",
    "\n",
    "\n",
    "\n",
    "\n",
    "#################\n",
    "df1 = pd.read_csv(\"vlabs.csv\")\n",
    "df1=df1.filter(items=['long', 'lat'])\n",
    "df1=(df1.values.tolist())\n",
    "list1=df1\n",
    "#print(type(list1)\n",
    "\n",
    "df2 = pd.read_csv(\"vtests.csv\")\n",
    "df2=df2.filter(items=['long', 'lat'])\n",
    "df2=(df2.values.tolist())\n",
    "#print(df1,df2)\n",
    "list2=df2\n",
    "\n",
    "#########################################\n",
    "my_new_list = []\n",
    "for i in list1:\n",
    "    p1=(i)\n",
    "  \n",
    "    my_new_list = []\n",
    "    for r in list2:\n",
    "            p2=(r)\n",
    "            df1= haversine(p1, p2, unit=Unit.MILES)\n",
    "            #list3=df1\n",
    "            print(df1)\n",
    "            #print(type(df1))\n",
    "# # #    #######################################\n",
    "\n",
    "# n =len(list3)/2\n",
    "# list3 = np.array(list3)\n",
    "# l = np.array_split(list3, n)\n",
    "\n",
    "# k = [list(elem) for elem in l]\n",
    "   \n",
    "# for (a,i) in enumerate(k,start=1):\n",
    "#     mi = i.index(min(i))\n",
    "    \n",
    "    \n",
    "#     print(\"Test NO:-\",a,\"-----------\",\"Nearest Lab No:-\",(mi+1),\"-------\",min(i),\"Miles.\")\n"
   ]
  },
  {
   "cell_type": "code",
   "execution_count": null,
   "id": "f29c4a06-62c5-441c-a100-2179661735af",
   "metadata": {},
   "outputs": [],
   "source": [
    "[[-6.378125188, 54.26753258], [-2.918268877, 51.86631017], [-4.158230084, 56.54004655]]\n",
    "\n",
    "\n",
    "[[-3.86614107, 56.57870574], [-2.477483006, 55.98549315], [-1.316575506, 52.97928472], [-4.180140823, 57.03360425], [-7.806014172, 54.33357018], [-4.458906957, 57.23453676], [-6.015607545, 54.22111772], [-2.493751825, 57.29587036], [-2.933303003, 56.37310653]]"
   ]
  },
  {
   "cell_type": "code",
   "execution_count": 24,
   "id": "edee3030-fa9b-4375-ac01-736199d2264b",
   "metadata": {},
   "outputs": [],
   "source": [
    "this = [1,2,3,\"bbbb\"]\n",
    "##############################\n",
    "# for i in this:\n",
    "#     df=str((i))\n",
    "#     #print(df)\n",
    "#     nl = []\n",
    "\n",
    "#     for i in df:\n",
    "      \n",
    "#         nl.append(i)\n",
    "\n",
    "#         df=(nl)\n",
    "#         print(type(df))\n",
    "#         print(df)\n",
    "############################\n",
    "# for i in this:\n",
    "#   #df=str((i))\n",
    "#   #print(i)\n",
    "#     newlist = []\n",
    "\n",
    "#     for i in this:\n",
    "#       #if \"a\" in x:\n",
    "#         newlist.append(i)\n",
    "\n",
    "#         df=(newlist)\n",
    "#         print(df)\n",
    "############################################\n",
    "#for i in this:\n",
    "  #df=str((i))\n",
    "  #print(i)\n",
    "newlist = []\n",
    "\n",
    "for i in this:\n",
    "      \n",
    "        newlist.append(i)\n",
    "\n",
    "        df=(newlist)\n",
    "        #df.to_csv('aaa.csv')\n",
    "         \n",
    "        \n",
    "        #print(df)\n",
    "        #print(type(df))\n",
    "        df = pd.DataFrame(df)\n",
    "        df.to_csv(\"anahhhh.csv\")\n",
    "        \n",
    "        \n",
    "        \n",
    "#         presidents = [\"Washington\", \"Adams\", \"Jefferson\", \"Madison\", \"Monroe\", \"Adams\", \"Jackson\"]\n",
    "#         for i in range(len(presidents)):\n",
    "#         print(\"President {}: {}\".format(4 + 1, presidents[4]))"
   ]
  },
  {
   "cell_type": "code",
   "execution_count": null,
   "id": "fd69c624-99e4-4af0-935e-364e99308306",
   "metadata": {},
   "outputs": [],
   "source": []
  },
  {
   "cell_type": "code",
   "execution_count": null,
   "id": "39886edd-0995-4d19-8d33-006efcb62f04",
   "metadata": {},
   "outputs": [],
   "source": []
  },
  {
   "cell_type": "code",
   "execution_count": 44,
   "id": "d3871eeb-4c17-4474-81fc-aebd66d355cd",
   "metadata": {},
   "outputs": [
    {
     "name": "stdout",
     "output_type": "stream",
     "text": [
      "<class 'list'>\n",
      "<class 'list'>\n",
      "<class 'list'>\n",
      "<class 'list'>\n",
      "<class 'list'>\n",
      "<class 'list'>\n",
      "<class 'list'>\n",
      "<class 'list'>\n",
      "<class 'list'>\n"
     ]
    }
   ],
   "source": [
    "t = [5,3, 2]\n",
    "for i in t:\n",
    "    df=(i)\n",
    "    #print(df)\n",
    "    #print(type(df))\n",
    "\n",
    "    newlist = []\n",
    "\n",
    "    for i in t:\n",
    "      #if \"a\" in x:\n",
    "        newlist.append(i)\n",
    "\n",
    "        df=(newlist)\n",
    "        print(type(df))\n"
   ]
  },
  {
   "cell_type": "code",
   "execution_count": 38,
   "id": "31136373-8880-438c-8bf2-d1edb947711c",
   "metadata": {},
   "outputs": [
    {
     "ename": "IndentationError",
     "evalue": "unexpected indent (Temp/ipykernel_11124/2628280535.py, line 11)",
     "output_type": "error",
     "traceback": [
      "\u001b[1;36m  File \u001b[1;32m\"C:\\Users\\Raj\\AppData\\Local\\Temp/ipykernel_11124/2628280535.py\"\u001b[1;36m, line \u001b[1;32m11\u001b[0m\n\u001b[1;33m    print(i)\u001b[0m\n\u001b[1;37m    ^\u001b[0m\n\u001b[1;31mIndentationError\u001b[0m\u001b[1;31m:\u001b[0m unexpected indent\n"
     ]
    }
   ],
   "source": [
    "st = [5,3, 2]\n",
    "for i in st:\n",
    "    df=str((i))\n",
    "    #print(df)\n",
    " #   new = []\n",
    "\n",
    "    for i in df:\n",
    "     new = [] \n",
    "   # df1 =new.append(i)\n",
    "# #         \n",
    "      print(i)\n"
   ]
  },
  {
   "cell_type": "code",
   "execution_count": 39,
   "id": "de236417-188e-47fb-b44a-4d66fe1d9cba",
   "metadata": {},
   "outputs": [
    {
     "name": "stdout",
     "output_type": "stream",
     "text": [
      "('red', 'apple')\n",
      "('red', 'banana')\n",
      "('red', 'cherry')\n",
      "('big', 'apple')\n",
      "('big', 'banana')\n",
      "('big', 'cherry')\n",
      "('tasty', 'apple')\n",
      "('tasty', 'banana')\n",
      "('tasty', 'cherry')\n"
     ]
    }
   ],
   "source": [
    "adj = [\"red\", \"big\", \"tasty\"]\n",
    "fruits = [\"apple\", \"banana\", \"cherry\"]\n",
    "\n",
    "for x in adj:\n",
    "  for y in fruits:\n",
    "    df=(x, y)\n",
    "    print(df)"
   ]
  },
  {
   "cell_type": "code",
   "execution_count": null,
   "id": "6d04f2b6-27a5-4639-912d-807a1bc8f8b7",
   "metadata": {},
   "outputs": [],
   "source": []
  },
  {
   "cell_type": "code",
   "execution_count": 32,
   "id": "d84cf0e5-53c9-4da4-98d8-4ce99108bb28",
   "metadata": {},
   "outputs": [
    {
     "name": "stdout",
     "output_type": "stream",
     "text": [
      "<class 'int'>\n",
      "<class 'int'>\n",
      "<class 'int'>\n"
     ]
    }
   ],
   "source": [
    "#fruits = [\"apple\", \"banana\", \"cherry\", \"kiwi\", \"mango\"]\n",
    "t = [5,3, 2]\n",
    "for i in t:\n",
    "    df=str((i))\n",
    "    #print(df)\n",
    "    print(type(1))\n",
    "#     #nl = []\n",
    "\n",
    "#     for x in df:\n",
    "#         nl = []\n",
    "#         df1= nl.append(x)\n",
    "\n",
    "#             print(df1)\n"
   ]
  },
  {
   "cell_type": "code",
   "execution_count": 50,
   "id": "fd839618-959a-40da-a426-8a7ca452e1ca",
   "metadata": {},
   "outputs": [
    {
     "name": "stdout",
     "output_type": "stream",
     "text": [
      "[['5']]\n",
      "[['3']]\n",
      "[['2']]\n"
     ]
    }
   ],
   "source": [
    "t = [5,3, 2]\n",
    "for i in t:\n",
    "    df=str((i))\n",
    "    #print(df)\n",
    "    #print(type(i))\n",
    " \n",
    "\n",
    "   \n",
    "\n",
    "    x=(df.split()) \n",
    "    #print(x)\n",
    "    ##print(type(x))\n",
    "     #prints the list given by split()\n",
    "    newlist = []\n",
    "\n",
    "    for y in x:\n",
    "\n",
    "            newlist.append(x)\n",
    "\n",
    "            print(newlist)\n"
   ]
  },
  {
   "cell_type": "code",
   "execution_count": 60,
   "id": "40b65faa-10f3-4ba0-b82b-5985fa36039e",
   "metadata": {},
   "outputs": [
    {
     "name": "stdout",
     "output_type": "stream",
     "text": [
      "['4', '5', '4', ' 2']\n",
      "<class 'list'>\n"
     ]
    }
   ],
   "source": [
    "import ast\n",
    "x = '[ \"4\",\"5\",\"4\" , \" 2\"]'\n",
    "x = ast.literal_eval(x)\n",
    "# for i in x:\n",
    "#     ast.literal_eval(i)\n",
    "    \n",
    "print(x)\n",
    "print(type(x))\n",
    "# ['A', 'B', 'C', ' D']\n",
    "# >>> x = [n.strip() for n in x]\n",
    "# >>> x\n",
    "#['A', 'B', 'C', 'D']"
   ]
  },
  {
   "cell_type": "code",
   "execution_count": 88,
   "id": "7366a4e3-5aec-460a-ba87-dac55d89fbb4",
   "metadata": {},
   "outputs": [
    {
     "name": "stdout",
     "output_type": "stream",
     "text": [
      "[3. 5. 6.]\n"
     ]
    }
   ],
   "source": [
    "import numpy as np\n",
    "\n",
    "TEMP1 = 3 ,5, 6\n",
    "\n",
    "temperatures = []\n",
    "floatTemperatures = np.array(temperatures, dtype = np.float32)\n",
    "\n",
    "floatTemperatures = np.append(floatTemperatures, TEMP1)\n",
    "print(floatTemperatures)"
   ]
  },
  {
   "cell_type": "code",
   "execution_count": 89,
   "id": "29fffbbd-3dc2-4f4f-9bea-d5fbb6b30f13",
   "metadata": {},
   "outputs": [
    {
     "ename": "SyntaxError",
     "evalue": "invalid syntax (Temp/ipykernel_8248/4219479689.py, line 3)",
     "output_type": "error",
     "traceback": [
      "\u001b[1;36m  File \u001b[1;32m\"C:\\Users\\Raj\\AppData\\Local\\Temp/ipykernel_8248/4219479689.py\"\u001b[1;36m, line \u001b[1;32m3\u001b[0m\n\u001b[1;33m    def square_root(1,2,3):\u001b[0m\n\u001b[1;37m                    ^\u001b[0m\n\u001b[1;31mSyntaxError\u001b[0m\u001b[1;31m:\u001b[0m invalid syntax\n"
     ]
    }
   ],
   "source": [
    "import math\n",
    "\n",
    "def square_root(1,2,3):\n",
    "    result = []\n",
    "    for number in numbers:\n",
    "    result.append(math.sqrt(number))\n",
    "    return result\n",
    "print(result)\n",
    "\n",
    "#>>> numbers = [1, 4, 9, 16, 25, 36, 49, 64, 81]"
   ]
  },
  {
   "cell_type": "code",
   "execution_count": 151,
   "id": "a1afda6e-2fa6-4b8e-a0dc-6edcba030ffb",
   "metadata": {},
   "outputs": [
    {
     "ename": "TypeError",
     "evalue": "list.append() takes no keyword arguments",
     "output_type": "error",
     "traceback": [
      "\u001b[1;31m---------------------------------------------------------------------------\u001b[0m",
      "\u001b[1;31mTypeError\u001b[0m                                 Traceback (most recent call last)",
      "\u001b[1;32m~\\AppData\\Local\\Temp/ipykernel_8248/2087131309.py\u001b[0m in \u001b[0;36m<module>\u001b[1;34m\u001b[0m\n\u001b[0;32m      3\u001b[0m \u001b[0mresult\u001b[0m \u001b[1;33m=\u001b[0m \u001b[1;33m[\u001b[0m\u001b[1;33m]\u001b[0m\u001b[1;33m\u001b[0m\u001b[1;33m\u001b[0m\u001b[0m\n\u001b[0;32m      4\u001b[0m \u001b[1;32mfor\u001b[0m \u001b[0mi\u001b[0m \u001b[1;32min\u001b[0m \u001b[0mnum\u001b[0m\u001b[1;33m:\u001b[0m\u001b[1;33m\u001b[0m\u001b[1;33m\u001b[0m\u001b[0m\n\u001b[1;32m----> 5\u001b[1;33m     \u001b[0mresult\u001b[0m\u001b[1;33m.\u001b[0m\u001b[0mappend\u001b[0m\u001b[1;33m(\u001b[0m\u001b[0mi\u001b[0m\u001b[1;33m=\u001b[0m\u001b[1;36m2\u001b[0m\u001b[1;33m)\u001b[0m\u001b[1;33m\u001b[0m\u001b[1;33m\u001b[0m\u001b[0m\n\u001b[0m\u001b[0;32m      6\u001b[0m     \u001b[1;31m#return result\u001b[0m\u001b[1;33m\u001b[0m\u001b[1;33m\u001b[0m\u001b[1;33m\u001b[0m\u001b[0m\n\u001b[0;32m      7\u001b[0m     \u001b[0mprint\u001b[0m\u001b[1;33m(\u001b[0m\u001b[0mresult\u001b[0m\u001b[1;33m)\u001b[0m\u001b[1;33m\u001b[0m\u001b[1;33m\u001b[0m\u001b[0m\n",
      "\u001b[1;31mTypeError\u001b[0m: list.append() takes no keyword arguments"
     ]
    }
   ],
   "source": [
    "num=[2,3,4,5]\n",
    "\n",
    "result = []\n",
    "for i in num:\n",
    "    result.append(i)\n",
    "    #return result\n",
    "    print(result)\n",
    "\n",
    "#>>> numbers = [1, 4, 9, 16, 25, 36, 49, 64, 81]"
   ]
  },
  {
   "cell_type": "code",
   "execution_count": 111,
   "id": "e6fd15f5-b2b5-4f70-95b6-341c6b93a028",
   "metadata": {},
   "outputs": [
    {
     "name": "stdout",
     "output_type": "stream",
     "text": [
      "0 2\n",
      "1 3\n",
      "2 4\n"
     ]
    }
   ],
   "source": [
    "num=[2,3,4]\n",
    "for idxy, val in enumerate(num):\n",
    "    print(idxy, val)"
   ]
  },
  {
   "cell_type": "code",
   "execution_count": 139,
   "id": "37d93423-8beb-460e-8045-6f36904e3dbe",
   "metadata": {},
   "outputs": [
    {
     "ename": "SyntaxError",
     "evalue": "invalid syntax (Temp/ipykernel_8248/552506319.py, line 3)",
     "output_type": "error",
     "traceback": [
      "\u001b[1;36m  File \u001b[1;32m\"C:\\Users\\Raj\\AppData\\Local\\Temp/ipykernel_8248/552506319.py\"\u001b[1;36m, line \u001b[1;32m3\u001b[0m\n\u001b[1;33m    while  i =3:\u001b[0m\n\u001b[1;37m             ^\u001b[0m\n\u001b[1;31mSyntaxError\u001b[0m\u001b[1;31m:\u001b[0m invalid syntax\n"
     ]
    }
   ],
   "source": [
    "colors = [\"red\", \"green\", \"blue\", \"purple\"]\n",
    "i = 0\n",
    "while  i =3:\n",
    "    print(colors[i])\n",
    "    i += 1"
   ]
  },
  {
   "cell_type": "code",
   "execution_count": 145,
   "id": "3e7fd567-8af3-48ff-8855-3e7dc4e10950",
   "metadata": {},
   "outputs": [
    {
     "name": "stdout",
     "output_type": "stream",
     "text": [
      "purple\n",
      "purple\n",
      "purple\n",
      "purple\n"
     ]
    }
   ],
   "source": [
    "colors = [\"red\", \"green\", \"blue\", \"purple\"]\n",
    "for i in range(len(colors)):\n",
    "    print(colors[3])  "
   ]
  },
  {
   "cell_type": "code",
   "execution_count": 146,
   "id": "103acce7-0be3-48eb-8b52-016bf1cb914d",
   "metadata": {},
   "outputs": [
    {
     "name": "stdout",
     "output_type": "stream",
     "text": [
      "purple\n",
      "purple\n",
      "purple\n",
      "purple\n"
     ]
    }
   ],
   "source": [
    "colors = [\"red\", \"green\", \"blue\", \"purple\"]\n",
    "for i in colors:\n",
    "    print(colors[3])  "
   ]
  },
  {
   "cell_type": "code",
   "execution_count": 152,
   "id": "510f55f3-d447-45c0-9ebd-57755828e5a6",
   "metadata": {},
   "outputs": [
    {
     "name": "stdout",
     "output_type": "stream",
     "text": [
      "20.0% red\n",
      "30.0% green\n",
      "10.0% blue\n",
      "40.0% purple\n"
     ]
    }
   ],
   "source": [
    "colors = [\"red\", \"green\", \"blue\", \"purple\"]\n",
    "ratios = [0.2, 0.3, 0.1, 0.4]\n",
    "for i, color in enumerate(colors):\n",
    "    ratio = ratios[i]\n",
    "    print(\"{}% {}\".format(ratio * 100, color))\n"
   ]
  },
  {
   "cell_type": "code",
   "execution_count": 154,
   "id": "0f08aa3e-174c-4aea-8897-a46361ee92e7",
   "metadata": {},
   "outputs": [
    {
     "name": "stdout",
     "output_type": "stream",
     "text": [
      "President 5: Monroe\n",
      "President 5: Monroe\n",
      "President 5: Monroe\n",
      "President 5: Monroe\n",
      "President 5: Monroe\n",
      "President 5: Monroe\n",
      "President 5: Monroe\n"
     ]
    }
   ],
   "source": [
    "presidents = [\"Washington\", \"Adams\", \"Jefferson\", \"Madison\", \"Monroe\", \"Adams\", \"Jackson\"]\n",
    "for i in range(len(presidents)):\n",
    "    print(\"President {}: {}\".format(4 + 1, presidents[4]))"
   ]
  },
  {
   "cell_type": "code",
   "execution_count": 24,
   "id": "e7383d55-4c49-4f92-85d2-6065a3f9a460",
   "metadata": {},
   "outputs": [
    {
     "ename": "SyntaxError",
     "evalue": "invalid syntax (Temp/ipykernel_6528/2691418059.py, line 20)",
     "output_type": "error",
     "traceback": [
      "\u001b[1;36m  File \u001b[1;32m\"C:\\Users\\Raj\\AppData\\Local\\Temp/ipykernel_6528/2691418059.py\"\u001b[1;36m, line \u001b[1;32m20\u001b[0m\n\u001b[1;33m    else\u001b[0m\n\u001b[1;37m    ^\u001b[0m\n\u001b[1;31mSyntaxError\u001b[0m\u001b[1;31m:\u001b[0m invalid syntax\n"
     ]
    }
   ],
   "source": [
    "this = [1,2,3,\"sasi\"]\n",
    "\n",
    "#newlist = []\n",
    "\n",
    "# for i in this:\n",
    "#         print(i)\n",
    "for i in this[:-1]:\n",
    "  print()\n",
    "else:\n",
    "  dfx=(' '.join(this[-1].upper()))\n",
    "  #dfx.to_csv(\"m_in.csv\")\n",
    "#   df1=(dfx.to_list())\n",
    "#   #list1=df1\n",
    "#   df1.to_csv(\"m_in.csv\")\n",
    "  newlist = []\n",
    "   # newlist = []\n",
    "\n",
    "  for i in dfx[:-1]:\n",
    "        print()\n",
    "        else          \n",
    "#       #if \"a\" in x:\n",
    "         newlist.append(i)\n",
    "\n",
    "         df=(newlist)\n",
    "         print(df)\n",
    "\n",
    "\n",
    "  #print(\"jo\")\n",
    "        #newlist.append(i)\n",
    "\n",
    "        #df=(newlist)\n",
    "       # print(df)\n",
    "# for i in this[:-2]:\n",
    "#   print(i)\n",
    "#   else:\n",
    "#   print(' '.join(this[-1].upper()))\n"
   ]
  },
  {
   "cell_type": "code",
   "execution_count": 49,
   "id": "f0f9a545-8b53-4cee-a71b-538f9c3f3e5c",
   "metadata": {},
   "outputs": [
    {
     "name": "stdout",
     "output_type": "stream",
     "text": [
      "\n",
      "\n",
      "\n",
      "S E M A R A N G\n"
     ]
    }
   ],
   "source": [
    "this = [1,2,3,\"siva\"]\n",
    "\n",
    "#newlist = []\n",
    "\n",
    "for i in this[:-1]:\n",
    "    print()   \n",
    "else:    \n",
    "   # newlist = []\n",
    "      \n",
    "    #newlist(this[-1].append(i))\n",
    "\n",
    "    #df=(newlist)\n",
    "    #print(' '.join(cities[-1].upper()))\n",
    "    #print(df)\n",
    "#   for i in this:\n",
    "      \n",
    "#         newlist.append(i)\n",
    "\n",
    "#         df=(newlist)\n",
    "#         print(df)\n"
   ]
  },
  {
   "cell_type": "code",
   "execution_count": 37,
   "id": "0c93e062-8d72-4929-807c-d27a3bf37348",
   "metadata": {},
   "outputs": [
    {
     "name": "stdout",
     "output_type": "stream",
     "text": [
      "S E M A R A N G\n"
     ]
    }
   ],
   "source": [
    "cities = [\n",
    "  'Jakarta',\n",
    "  'Surabaya',\n",
    "  'Semarang'\n",
    "]\n",
    "\n",
    "for city in cities[:-3]:\n",
    "  print(city)\n",
    "else:\n",
    "  print(' '.join(cities[-1].upper()))\n",
    "  "
   ]
  },
  {
   "cell_type": "code",
   "execution_count": null,
   "id": "0dc49c63-7e05-4254-ab4a-601200ebfa0a",
   "metadata": {},
   "outputs": [],
   "source": [
    "this = [1,2,3,4]\n",
    "##############################\n",
    "# for i in this:\n",
    "#     df=str((i))\n",
    "#     #print(df)\n",
    "#     nl = []\n",
    "\n",
    "#     for i in df:\n",
    "      \n",
    "#         nl.append(i)\n",
    "\n",
    "#         df=(nl)\n",
    "#         print(type(df))\n",
    "#         print(df)\n",
    "############################\n",
    "# for i in this:\n",
    "#   #df=str((i))\n",
    "#   #print(i)\n",
    "#     newlist = []\n",
    "\n",
    "#     for i in this:\n",
    "#       #if \"a\" in x:\n",
    "#         newlist.append(i)\n",
    "\n",
    "#         df=(newlist)\n",
    "#         print(df)\n",
    "############################################\n",
    "#for i in this:\n",
    "  #df=str((i))\n",
    "  #print(i)\n",
    "newlist = []\n",
    "\n",
    "for i in this:\n",
    "      \n",
    "        newlist.append(i)\n",
    "\n",
    "        df=(newlist)\n",
    "        print(df)\n",
    "        #print(type(df))\n",
    "#         presidents = [\"Washington\", \"Adams\", \"Jefferson\", \"Madison\", \"Monroe\", \"Adams\", \"Jackson\"]\n",
    "#         for i in range(len(presidents)):\n",
    "#   "
   ]
  },
  {
   "cell_type": "code",
   "execution_count": 16,
   "id": "322fea38-dd0f-4ba2-9fd5-e6404f56d494",
   "metadata": {},
   "outputs": [
    {
     "name": "stdout",
     "output_type": "stream",
     "text": [
      "1\n",
      "[1]\n",
      "2\n",
      "[1, 2]\n",
      "3\n",
      "[1, 2, 3]\n",
      "4\n",
      "[1, 2, 3, 4]\n"
     ]
    }
   ],
   "source": [
    "this = [1,2,3,4]\n",
    "newlist = []\n",
    "\n",
    "for i in this[:]:\n",
    "    print(i)\n",
    "   # newlist = []\n",
    "    newlist.append(i)\n",
    "\n",
    "    df=(newlist)\n",
    "    print(df)\n",
    "   "
   ]
  },
  {
   "cell_type": "code",
   "execution_count": 10,
   "id": "c39e5eaf-4dc5-423e-888c-f9c586b0f5da",
   "metadata": {},
   "outputs": [
    {
     "name": "stdout",
     "output_type": "stream",
     "text": [
      "<class 'pandas.core.frame.DataFrame'>\n"
     ]
    }
   ],
   "source": [
    "import pandas as pd\n",
    "##########\n",
    "import os\n",
    "import sys\n",
    "\n",
    "import numpy as np\n",
    "\n",
    "from haversine import haversine, Unit\n",
    "\n",
    "\n",
    "\n",
    "\n",
    "#################\n",
    "df1 = pd.read_csv(\"vlabs.csv\")\n",
    "df1=df1.filter(items=['long', 'lat'])\n",
    "# df1=(df1.values.tolist())\n",
    "# list1=df1\n",
    "# print(type(list1))\n",
    "df1.to_csv(\"aabbcnew.csv\")\n",
    "print(type(df1))"
   ]
  },
  {
   "cell_type": "code",
   "execution_count": 11,
   "id": "133212ba-08e7-45b2-86d9-e7827927e873",
   "metadata": {},
   "outputs": [
    {
     "name": "stdout",
     "output_type": "stream",
     "text": [
      "<class 'list'>\n"
     ]
    }
   ],
   "source": [
    "import pandas as pd\n",
    "\n",
    "from haversine import haversine, Unit\n",
    "\n",
    "df1 = pd.read_csv(\"vlabs.csv\")\n",
    "df1=df1.filter(items=['long', 'lat'])\n",
    "df1=(df1.values.tolist())\n",
    "# list1=df1\n",
    "# print(type(list1))\n",
    "#df1.to_csv(\"aabbcnew.csv\")\n",
    "print(type(df1))"
   ]
  },
  {
   "cell_type": "code",
   "execution_count": 15,
   "id": "64eb04ca-c5e5-4ca9-a9ca-2499cdb21d08",
   "metadata": {},
   "outputs": [],
   "source": [
    "import pandas as pd\n",
    "\n",
    "# list of strings\n",
    "\n",
    "#lst = ['fav', 'tutor', 'coding', 'skills']\n",
    "#df = pd.DataFrame(lst)\n",
    "#df.to_csv(\"hhhh.csv\")"
   ]
  },
  {
   "cell_type": "code",
   "execution_count": 65,
   "id": "07921c35-00a1-4fa1-b90a-87bf3cbc2267",
   "metadata": {},
   "outputs": [
    {
     "name": "stdout",
     "output_type": "stream",
     "text": [
      "235.40620457800313\n",
      "294.33838831637036\n",
      "360.8126010587577\n",
      "243.46535291111593\n",
      "98.76157431881536\n",
      "331.55361925670564\n",
      "285.91878861780924\n",
      "134.72972440904837\n",
      "366.8448445594179\n",
      "377.9384797206012\n",
      "20.356568358383612\n",
      "122.26583647132011\n",
      "314.526768703343\n",
      "34.04502202980665\n",
      "294.11649825158156\n"
     ]
    }
   ],
   "source": [
    "import pandas as pd\n",
    "##########\n",
    "import os\n",
    "import sys\n",
    "\n",
    "import numpy as np\n",
    "\n",
    "from haversine import haversine, Unit\n",
    "\n",
    "\n",
    "\n",
    "\n",
    "#################\n",
    "df1 = pd.read_csv(\"vlabs.csv\")\n",
    "df1=df1.filter(items=['long', 'lat'])\n",
    "df1=(df1.values.tolist())\n",
    "list1=df1\n",
    "#print(type(list1)\n",
    "\n",
    "df2 = pd.read_csv(\"vtests.csv\")\n",
    "df2=df2.filter(items=['long', 'lat'])\n",
    "df2=(df2.values.tolist())\n",
    "#print(df1,df2)\n",
    "list2=df2\n",
    "my_new_list = []\n",
    "for i in list1:\n",
    "   # p1=(i)\n",
    "  \n",
    "    my_new_list = []\n",
    "    for r in list2:\n",
    "           # p2=(r)\n",
    "            df1= haversine(i, r, unit=Unit.MILES)\n",
    "            #list3=df1\n",
    "            print(df1)\n",
    "            ##print(type(df1))\n",
    "##kkkkkkkkk#######################################\n",
    "# my_new_list = []\n",
    "# for i in list1:\n",
    "#     p1=(i)\n",
    "  \n",
    "#     my_new_list = []\n",
    "#     for r in list2:\n",
    "#             p2=(r)\n",
    "#             df1= haversine(p1, p2, unit=Unit.MILES)\n",
    "#             #list3=df1\n",
    "# #             newlist = []\n",
    "\n",
    "# #             for i in (i,r):\n",
    "# #               #if \"a\" in x:\n",
    "# #                 #df1= haversine(p1, p2, unit=Unit.MILES)\n",
    "# #                 newlist.append(i)\n",
    "\n",
    "#                 #df=(newlist)\n",
    "#             print(df)\n",
    "\n",
    "#             #print(df1)\n",
    "#             #print(type(df1))\n",
    "#             #****#df1=(df1.to_list())\n",
    "#             #print(type(df1))\n",
    "# kkkkkkk# #    #######################################\n",
    "\n",
    "# n =len(list3)/2\n",
    "# list3 = np.array(list3)\n",
    "# l = np.array_split(list3, n)\n",
    "\n",
    "# k = [list(elem) for elem in l]\n",
    "   \n",
    "# for (a,i) in enumerate(k,start=1):\n",
    "#     mi = i.index(min(i))\n",
    "    \n",
    "    \n",
    "#     print(\"Test NO:-\",a,\"-----------\",\"Nearest Lab No:-\",(mi+1),\"-------\",min(i),\"Miles.\")\n"
   ]
  },
  {
   "cell_type": "code",
   "execution_count": 87,
   "id": "9cb5e2ba-f7bd-4108-9e51-e42dc1ff5eb8",
   "metadata": {},
   "outputs": [
    {
     "name": "stdout",
     "output_type": "stream",
     "text": [
      "[5]\n",
      "[5, 5]\n",
      "[5, 5, 5]\n",
      "[3]\n",
      "[3, 3]\n",
      "[3, 3, 3]\n",
      "[2]\n",
      "[2, 2]\n",
      "[2, 2, 2]\n"
     ]
    }
   ],
   "source": [
    "t = [5,3, 2]\n",
    "for i in t:\n",
    "#     df=(i)\n",
    "#     #print(df)\n",
    "#     #print(type(df))\n",
    "\n",
    "    newlist = []\n",
    "\n",
    "    for a in t:\n",
    "      #if \"a\" in x:\n",
    "        newlist.append(i)\n",
    "\n",
    "        df=(newlist)\n",
    "        print(df)\n"
   ]
  },
  {
   "cell_type": "code",
   "execution_count": 84,
   "id": "abd5b9f6-d6cb-4f50-8894-bf5350a4a75e",
   "metadata": {},
   "outputs": [
    {
     "ename": "IndentationError",
     "evalue": "unexpected indent (Temp/ipykernel_11124/3355176337.py, line 23)",
     "output_type": "error",
     "traceback": [
      "\u001b[1;36m  File \u001b[1;32m\"C:\\Users\\Raj\\AppData\\Local\\Temp/ipykernel_11124/3355176337.py\"\u001b[1;36m, line \u001b[1;32m23\u001b[0m\n\u001b[1;33m    newlist = []\u001b[0m\n\u001b[1;37m    ^\u001b[0m\n\u001b[1;31mIndentationError\u001b[0m\u001b[1;31m:\u001b[0m unexpected indent\n"
     ]
    }
   ],
   "source": [
    "df1 = pd.read_csv(\"vlabs.csv\")\n",
    "df1=df1.filter(items=['long', 'lat'])\n",
    "df1=(df1.values.tolist())\n",
    "list1=df1\n",
    "#print(type(list1)\n",
    "\n",
    "df2 = pd.read_csv(\"vtests.csv\")\n",
    "df2=df2.filter(items=['long', 'lat'])\n",
    "df2=(df2.values.tolist())\n",
    "#print(df1,df2)\n",
    "list2=df2\n",
    "my_new_list = []\n",
    "for i in list1:\n",
    "   # p1=(i)\n",
    "  \n",
    "    my_new_list = []\n",
    "    for r in list2:\n",
    "           # p2=(r)\n",
    "            df1= haversine(i, r, unit=Unit.MILES)\n",
    "            #list3=df1\n",
    "           # print(type(df1))\n",
    "           # print(df1)\n",
    "             newlist = []\n",
    "\n",
    "             \n",
    "\n",
    "             for i in t:\n",
    "                  #if \"a\" in x:\n",
    "                    newlist.append(i)\n",
    "\n",
    "                    df=(newlist)\n",
    "                    print(type(df))       "
   ]
  },
  {
   "cell_type": "code",
   "execution_count": null,
   "id": "dbcb14d5-d674-4e98-9383-eee13e0c09ec",
   "metadata": {},
   "outputs": [],
   "source": [
    "adj = [\"red\", \"big\", \"tasty\"]\n",
    "fruits = [\"apple\", \"banana\", \"cherry\"]\n",
    "\n",
    "for x in adj:\n",
    "  for y in fruits:\n",
    "    print(x, y)\n"
   ]
  },
  {
   "cell_type": "code",
   "execution_count": 91,
   "id": "c53b2d13-8ec4-436f-84f4-c4ff94e67a6a",
   "metadata": {},
   "outputs": [
    {
     "name": "stdout",
     "output_type": "stream",
     "text": [
      "20\n",
      "40\n",
      "60\n",
      "30\n",
      "60\n",
      "90\n",
      "40\n",
      "80\n",
      "120\n"
     ]
    }
   ],
   "source": [
    "aa = [2, 3, 4]\n",
    "bb = [10, 20,30]\n",
    "\n",
    "for x in aa:\n",
    "    for y in bb:\n",
    "        print(x* y)\n"
   ]
  },
  {
   "cell_type": "code",
   "execution_count": null,
   "id": "c571e3b6-ea17-464f-b18a-48a1e8eac6ec",
   "metadata": {},
   "outputs": [],
   "source": []
  },
  {
   "cell_type": "code",
   "execution_count": null,
   "id": "4a0868eb-c520-4fb7-baa6-bafbaa6ab6f3",
   "metadata": {},
   "outputs": [],
   "source": []
  },
  {
   "cell_type": "code",
   "execution_count": null,
   "id": "46b6f9bd-496c-4aa9-a010-d49e3119674e",
   "metadata": {},
   "outputs": [],
   "source": []
  }
 ],
 "metadata": {
  "kernelspec": {
   "display_name": "Python 3 (ipykernel)",
   "language": "python",
   "name": "python3"
  },
  "language_info": {
   "codemirror_mode": {
    "name": "ipython",
    "version": 3
   },
   "file_extension": ".py",
   "mimetype": "text/x-python",
   "name": "python",
   "nbconvert_exporter": "python",
   "pygments_lexer": "ipython3",
   "version": "3.9.6"
  }
 },
 "nbformat": 4,
 "nbformat_minor": 5
}
