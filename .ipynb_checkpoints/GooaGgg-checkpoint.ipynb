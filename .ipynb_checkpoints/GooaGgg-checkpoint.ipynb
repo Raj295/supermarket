{
 "cells": [
  {
   "cell_type": "code",
   "execution_count": 5,
   "id": "340925db-e1a4-43e9-aceb-160e78332db4",
   "metadata": {},
   "outputs": [
    {
     "name": "stdout",
     "output_type": "stream",
     "text": [
      "235.40620457800313\n",
      "294.33838831637036\n",
      "360.8126010587577\n",
      "243.46535291111593\n",
      "98.76157431881536\n",
      "331.55361925670564\n",
      "285.91878861780924\n",
      "134.72972440904837\n",
      "366.8448445594179\n",
      "377.9384797206012\n",
      "20.356568358383612\n",
      "122.26583647132011\n",
      "314.526768703343\n",
      "34.04502202980665\n",
      "294.11649825158156\n"
     ]
    }
   ],
   "source": [
    "import pandas as pd\n",
    "import numpy as np\n",
    "from haversine import haversine, Unit\n",
    "#################\n",
    "df1 = pd.read_csv(\"vlabs.csv\")\n",
    "df1=df1.filter(items=['long', 'lat'])\n",
    "df1=(df1.values.tolist())\n",
    "list1=df1\n",
    "df2 = pd.read_csv(\"vtests.csv\")\n",
    "df2=df2.filter(items=['long', 'lat'])\n",
    "df2=(df2.values.tolist())\n",
    "#print(df1,df2)\n",
    "list2=df2\n",
    "#########################################\n",
    "my_new_list = []\n",
    "for i in list1:\n",
    "    p1=(i)\n",
    "    my_new_list = []\n",
    "    for r in list2:\n",
    "            p2=(r)\n",
    "            df1= haversine(p1, p2, unit=Unit.MILES)\n",
    "            list3=df1\n",
    "            print(list3)"
   ]
  },
  {
   "cell_type": "code",
   "execution_count": 15,
   "id": "dcf9707a-315f-44ea-bab6-7bdfbb5e7440",
   "metadata": {},
   "outputs": [
    {
     "name": "stdout",
     "output_type": "stream",
     "text": [
      "22.42\n",
      "33.2\n",
      "34.4\n"
     ]
    }
   ],
   "source": [
    "dd=[22.42,33.2,34.4]\n",
    "for i in dd:\n",
    "     #print(type(i))\n",
    "    print(i)"
   ]
  },
  {
   "cell_type": "code",
   "execution_count": null,
   "id": "2fb03f1d-cfca-4f9e-b0c0-57916002fdf3",
   "metadata": {},
   "outputs": [],
   "source": []
  },
  {
   "cell_type": "code",
   "execution_count": null,
   "id": "3870c506-d7de-4a33-a612-1b45614fc826",
   "metadata": {},
   "outputs": [],
   "source": []
  }
 ],
 "metadata": {
  "kernelspec": {
   "display_name": "Python 3 (ipykernel)",
   "language": "python",
   "name": "python3"
  },
  "language_info": {
   "codemirror_mode": {
    "name": "ipython",
    "version": 3
   },
   "file_extension": ".py",
   "mimetype": "text/x-python",
   "name": "python",
   "nbconvert_exporter": "python",
   "pygments_lexer": "ipython3",
   "version": "3.9.6"
  }
 },
 "nbformat": 4,
 "nbformat_minor": 5
}
