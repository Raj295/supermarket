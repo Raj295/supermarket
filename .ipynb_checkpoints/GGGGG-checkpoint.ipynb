{
 "cells": [
  {
   "cell_type": "code",
   "execution_count": 13,
   "id": "226372f4-c9d9-4efb-adc3-ee53c713adc9",
   "metadata": {},
   "outputs": [
    {
     "name": "stdout",
     "output_type": "stream",
     "text": [
      "[235.40620457800313, 294.33838831637036, 360.8126010587577, 243.46535291111593, 98.76157431881536, 331.55361925670564, 285.91878861780924, 134.72972440904837, 366.8448445594179, 377.9384797206012, 20.356568358383612, 122.26583647132011, 314.526768703343, 34.04502202980665, 294.11649825158156]\n",
      "Test NO:- 1 ----------- Nearest Lab No:- 11 ------- 20.356568358383612 Miles.\n"
     ]
    }
   ],
   "source": [
    "import pandas as pd\n",
    "import numpy as np\n",
    "from haversine import haversine, Unit\n",
    "#################\n",
    "df1 = pd.read_csv(\"vlabs.csv\")\n",
    "df1=df1.filter(items=['long', 'lat'])\n",
    "df1=(df1.values.tolist())\n",
    "list1=df1\n",
    "################\n",
    "df2 = pd.read_csv(\"vtests.csv\")\n",
    "df2=df2.filter(items=['long', 'lat'])\n",
    "df2=(df2.values.tolist())\n",
    "#print(df1,df2)\n",
    "list2=df2\n",
    "#########################################\n",
    "my_new_list = []\n",
    "for i in list1[:4]:  \n",
    "   # my_new_list = []\n",
    "     for r in list2[:6]:\n",
    "            #my_new_list = []\n",
    "            df1= haversine(i, r, unit=Unit.MILES)\n",
    "            #print(df1)\n",
    "# # #    #######################################\n",
    "\n",
    "\n",
    "            \n",
    "           # newlist=[]\n",
    "            #for a in df1:\n",
    "            #       #if \"a\" in x:\n",
    "            my_new_list.append(df1)\n",
    "            #list3=my_new_list.append(df1)\n",
    "            #print(list3)       \n",
    "\n",
    "list3=(my_new_list)\n",
    "#print(list3)\n",
    "#df=pd.DataFrame(my_new_list)\n",
    "#df.to_csv('GGGGGom.csv')\n",
    "#######################################\n",
    "n =len(list3)/10\n",
    "list3 = np.array(list3)\n",
    "l = np.array_split(list3, n)\n",
    "\n",
    "k = [list(elem) for elem in l]\n",
    "   \n",
    "for (a,i) in enumerate(k,start=1):\n",
    "    mi = i.index(min(i))\n",
    "    \n",
    "    \n",
    "    print(\"Test NO:-\",a,\"-----------\",\"Nearest Lab No:-\",(mi+1),\"-------\",min(i),\"Miles.\")"
   ]
  },
  {
   "cell_type": "code",
   "execution_count": null,
   "id": "501234d6-5a75-425b-a93a-a9ed494956a1",
   "metadata": {},
   "outputs": [],
   "source": []
  },
  {
   "cell_type": "code",
   "execution_count": null,
   "id": "1cf70d88-0628-43cf-9b58-74a0e1ca0699",
   "metadata": {},
   "outputs": [],
   "source": []
  },
  {
   "cell_type": "code",
   "execution_count": null,
   "id": "e03101ef-fb17-473c-8f20-ef712e680df3",
   "metadata": {},
   "outputs": [],
   "source": []
  }
 ],
 "metadata": {
  "kernelspec": {
   "display_name": "Python 3 (ipykernel)",
   "language": "python",
   "name": "python3"
  },
  "language_info": {
   "codemirror_mode": {
    "name": "ipython",
    "version": 3
   },
   "file_extension": ".py",
   "mimetype": "text/x-python",
   "name": "python",
   "nbconvert_exporter": "python",
   "pygments_lexer": "ipython3",
   "version": "3.9.6"
  }
 },
 "nbformat": 4,
 "nbformat_minor": 5
}
